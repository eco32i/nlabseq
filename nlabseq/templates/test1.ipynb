{
 "cells": [
  {
   "cell_type": "code",
   "execution_count": null,
   "metadata": {},
   "outputs": [],
   "source": [
    "# Template for downloading and demultiplexing .fastq files from basespace\n",
    "# assumes the reads were not demultiplexed and went into 'Unindexed Reds'\n",
    "# project.\n",
    "\n",
    "# Generates a list of most common barcodes."
   ]
  },
  {
   "cell_type": "code",
   "execution_count": null,
   "metadata": {},
   "outputs": [],
   "source": [
    "# These should probably be defined in the template context\n",
    "# and used there to construct data_dir and such\n",
    "PROJECT=\"utRho\"\n",
    "PATTERN=\"IS-123\"\n",
    "BSDIR=\"/mnt/basespace\"\n",
    "\n",
    "datadir=\"../data\""
   ]
  },
  {
   "cell_type": "code",
   "execution_count": null,
   "metadata": {},
   "outputs": [],
   "source": [
    "# Download data from BASESPACE\n",
    "\n",
    "# cp \"/mnt/basespace/Projects/Unindexed Reads/Samples/Undetermined from 180725_NS500159_0099_AHWFCWAFXX/Files/\"*.fastq.gz ../data/\n",
    "cp $datafiles $datadir"
   ]
  },
  {
   "cell_type": "code",
   "execution_count": null,
   "metadata": {},
   "outputs": [],
   "source": [
    "# maybe use globbing here instead\n",
    "\n",
    "for fq in $(ls $datadir | grep R1)\n",
    "do\n",
    "    cat \"$datadir/$fq\" >> \"$datadir/R1.fastq.gz\"\n",
    "    rm -f \"$datadir/$fq\"\n",
    "done\n",
    "\n",
    "for fq in $(ls $datadir | grep R2)\n",
    "do\n",
    "    cat \"$datadir/$fq\" >> \"$datadir/R2.fastq.gz\"\n",
    "    rm -f \"$datadir/$fq\"\n",
    "done\n",
    "\n",
    "ls -lah $datadir"
   ]
  },
  {
   "cell_type": "code",
   "execution_count": null,
   "metadata": {},
   "outputs": [],
   "source": [
    "zcat $datadir/R1.fastq.gz \\\n",
    "    | sed -n '1p;1~4p' - \\\n",
    "    | cut -d' ' -f2 \\\n",
    "    | cut -d':' -f4 \\\n",
    "    | cut -d'+' -f1 \\\n",
    "    | sort | uniq -c | sort -k1 -nr > \"$datadir/index1.txt\""
   ]
  },
  {
   "cell_type": "code",
   "execution_count": null,
   "metadata": {},
   "outputs": [],
   "source": [
    "head -n 20 $datadir/index1.txt"
   ]
  },
  {
   "cell_type": "code",
   "execution_count": null,
   "metadata": {},
   "outputs": [],
   "source": [
    "head -n 12 $datadir/index1.txt > $datadir/barcodes.txt"
   ]
  },
  {
   "cell_type": "code",
   "execution_count": null,
   "metadata": {},
   "outputs": [],
   "source": []
  }
 ],
 "metadata": {
  "kernelspec": {
   "display_name": "Bash",
   "language": "bash",
   "name": "bash"
  },
  "language_info": {
   "codemirror_mode": "shell",
   "file_extension": ".sh",
   "mimetype": "text/x-sh",
   "name": "bash"
  }
 },
 "nbformat": 4,
 "nbformat_minor": 2
}