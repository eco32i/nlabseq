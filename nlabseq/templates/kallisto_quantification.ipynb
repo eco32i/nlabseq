{
 "cells": [
  {
   "cell_type": "code",
   "execution_count": null,
   "metadata": {},
   "outputs": [],
   "source": [
    "ls -lah ../data"
   ]
  },
  {
   "cell_type": "code",
   "execution_count": null,
   "metadata": {},
   "outputs": [],
   "source": [
    "ls -lah ../ref"
   ]
  },
  {
   "cell_type": "code",
   "execution_count": null,
   "metadata": {},
   "outputs": [],
   "source": [
    "kallisto=\"$HOME/bin/kallisto_linux-v0.43.1/kallisto\"\n",
    "\n",
    "#$kallisto index -i \"../ref/cele_tx.idx\" \"../ref/Caenorhabditis_elegans.WBcel235.cdna.all.fa.gz\""
   ]
  },
  {
   "cell_type": "code",
   "execution_count": null,
   "metadata": {},
   "outputs": [],
   "source": [
    "ls -lah ../data/ig01/trim"
   ]
  },
  {
   "cell_type": "code",
   "execution_count": null,
   "metadata": {
    "scrolled": false
   },
   "outputs": [],
   "source": [
    "# Run kallisto quant for samples\n",
    "\n",
    "base_dir=\"../data\"\n",
    "for sample in $(ls $base_dir | grep ^ig)\n",
    "do\n",
    "    echo \"Running kallisto quant for sample \"$sample\n",
    "    output=\"../results/kallisto/$sample\"\n",
    "    if [ ! -d \"$output\" ]; then\n",
    "        mkdir -p $output\n",
    "    fi\n",
    "    read1=\"$base_dir/$sample/trim/R1_pe.fastq.gz\"\n",
    "    read2=\"$base_dir/$sample/trim/R2_pe.fastq.gz\"\n",
    "    $kallisto quant \\\n",
    "        -i \"../ref/cele_tx.idx\" \\\n",
    "        -t 30 \\\n",
    "        -o $output -b 100 <(zcat $read1) <(zcat $read2)\n",
    "done"
   ]
  },
  {
   "cell_type": "code",
   "execution_count": null,
   "metadata": {},
   "outputs": [],
   "source": [
    "ls -lah ../results/kallisto/ig05"
   ]
  },
  {
   "cell_type": "code",
   "execution_count": null,
   "metadata": {},
   "outputs": [],
   "source": [
    "head ../results/kallisto/ig05/abundance.tsv"
   ]
  },
  {
   "cell_type": "code",
   "execution_count": null,
   "metadata": {},
   "outputs": [],
   "source": [
    "head ../results/kallisto/ig05/abundance.tsv"
   ]
  },
  {
   "cell_type": "code",
   "execution_count": null,
   "metadata": {},
   "outputs": [],
   "source": []
  }
 ],
 "metadata": {
  "kernelspec": {
   "display_name": "Bash",
   "language": "bash",
   "name": "bash"
  },
  "language_info": {
   "codemirror_mode": "shell",
   "file_extension": ".sh",
   "mimetype": "text/x-sh",
   "name": "bash"
  }
 },
 "nbformat": 4,
 "nbformat_minor": 1
}
