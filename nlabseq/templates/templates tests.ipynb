{
 "cells": [
  {
   "cell_type": "code",
   "execution_count": 1,
   "metadata": {},
   "outputs": [],
   "source": [
    "from jinja2 import Template"
   ]
  },
  {
   "cell_type": "code",
   "execution_count": 2,
   "metadata": {},
   "outputs": [],
   "source": [
    "tpl = '''\n",
    "# These should probably be defined in the template context\n",
    "# and used there to construct data_dir and such\n",
    "PROJECT=\"{{ project }}\"\n",
    "PATTERN=\"{{ pattern }}\"\n",
    "BSDIR=\"{{ bs_dir }}\"\n",
    "\n",
    "datadir=\"{{ data_dir }}\"\n",
    "\n",
    "'''"
   ]
  },
  {
   "cell_type": "code",
   "execution_count": 3,
   "metadata": {},
   "outputs": [
    {
     "name": "stdout",
     "output_type": "stream",
     "text": [
      "\n",
      "# These should probably be defined in the template context\n",
      "# and used there to construct data_dir and such\n",
      "PROJECT=\"utRho\"\n",
      "PATTERN=\"IS-123\"\n",
      "BSDIR=\"/mnt/basespace\"\n",
      "\n",
      "datadir=\"../data\"\n",
      "\n"
     ]
    }
   ],
   "source": [
    "template = Template(tpl)\n",
    "print(template.render(project=\"utRho\", pattern=\"IS-123\", bs_dir=\"/mnt/basespace\", data_dir=\"../data\"))"
   ]
  },
  {
   "cell_type": "code",
   "execution_count": 4,
   "metadata": {},
   "outputs": [
    {
     "name": "stdout",
     "output_type": "stream",
     "text": [
      "<Template memory:7f9700005550>\n"
     ]
    }
   ],
   "source": [
    "print(template)"
   ]
  },
  {
   "cell_type": "code",
   "execution_count": 5,
   "metadata": {},
   "outputs": [],
   "source": [
    "from jinja2 import Environment, PackageLoader\n",
    "\n",
    "env = Environment(loader=PackageLoader('nlabseq', 'templates'))"
   ]
  },
  {
   "cell_type": "code",
   "execution_count": 6,
   "metadata": {},
   "outputs": [],
   "source": [
    "template= env.get_template('data_download_and_preparation.ipynb')"
   ]
  },
  {
   "cell_type": "code",
   "execution_count": 7,
   "metadata": {},
   "outputs": [
    {
     "name": "stdout",
     "output_type": "stream",
     "text": [
      "{\n",
      " \"cells\": [\n",
      "  {\n",
      "   \"cell_type\": \"code\",\n",
      "   \"execution_count\": null,\n",
      "   \"metadata\": {},\n",
      "   \"outputs\": [],\n",
      "   \"source\": [\n",
      "    \"# Template for downloading and demultiplexing .fastq files from basespace\\n\",\n",
      "    \"# assumes the reads were not demultiplexed and went into 'Unindexed Reds'\\n\",\n",
      "    \"# project.\\n\",\n",
      "    \"\\n\",\n",
      "    \"# Generates a list of most common barcodes.\"\n",
      "   ]\n",
      "  },\n",
      "  {\n",
      "   \"cell_type\": \"code\",\n",
      "   \"execution_count\": null,\n",
      "   \"metadata\": {},\n",
      "   \"outputs\": [],\n",
      "   \"source\": [\n",
      "    \"# These should probably be defined in the template context\\n\",\n",
      "    \"# and used there to construct data_dir and such\\n\",\n",
      "    \"PROJECT=\\\"utRho\\\"\\n\",\n",
      "    \"PATTERN=\\\"IS-123\\\"\\n\",\n",
      "    \"BSDIR=\\\"/mnt/basespace\\\"\\n\",\n",
      "    \"\\n\",\n",
      "    \"datadir=\\\"../data\\\"\"\n",
      "   ]\n",
      "  },\n",
      "  {\n",
      "   \"cell_type\": \"code\",\n",
      "   \"execution_count\": null,\n",
      "   \"metadata\": {},\n",
      "   \"outputs\": [],\n",
      "   \"source\": [\n",
      "    \"# Download data from BASESPACE\\n\",\n",
      "    \"\\n\",\n",
      "    \"# cp \\\"/mnt/basespace/Projects/Unindexed Reads/Samples/Undetermined from 180725_NS500159_0099_AHWFCWAFXX/Files/\\\"*.fastq.gz ../data/\\n\",\n",
      "    \"cp $datafiles $datadir\"\n",
      "   ]\n",
      "  },\n",
      "  {\n",
      "   \"cell_type\": \"code\",\n",
      "   \"execution_count\": null,\n",
      "   \"metadata\": {},\n",
      "   \"outputs\": [],\n",
      "   \"source\": [\n",
      "    \"# maybe use globbing here instead\\n\",\n",
      "    \"\\n\",\n",
      "    \"for fq in $(ls $datadir | grep R1)\\n\",\n",
      "    \"do\\n\",\n",
      "    \"    cat \\\"$datadir/$fq\\\" >> \\\"$datadir/R1.fastq.gz\\\"\\n\",\n",
      "    \"    rm -f \\\"$datadir/$fq\\\"\\n\",\n",
      "    \"done\\n\",\n",
      "    \"\\n\",\n",
      "    \"for fq in $(ls $datadir | grep R2)\\n\",\n",
      "    \"do\\n\",\n",
      "    \"    cat \\\"$datadir/$fq\\\" >> \\\"$datadir/R2.fastq.gz\\\"\\n\",\n",
      "    \"    rm -f \\\"$datadir/$fq\\\"\\n\",\n",
      "    \"done\\n\",\n",
      "    \"\\n\",\n",
      "    \"ls -lah $datadir\"\n",
      "   ]\n",
      "  },\n",
      "  {\n",
      "   \"cell_type\": \"code\",\n",
      "   \"execution_count\": null,\n",
      "   \"metadata\": {},\n",
      "   \"outputs\": [],\n",
      "   \"source\": [\n",
      "    \"zcat $datadir/R1.fastq.gz \\\\\\n\",\n",
      "    \"    | sed -n '1p;1~4p' - \\\\\\n\",\n",
      "    \"    | cut -d' ' -f2 \\\\\\n\",\n",
      "    \"    | cut -d':' -f4 \\\\\\n\",\n",
      "    \"    | cut -d'+' -f1 \\\\\\n\",\n",
      "    \"    | sort | uniq -c | sort -k1 -nr > \\\"$datadir/index1.txt\\\"\"\n",
      "   ]\n",
      "  },\n",
      "  {\n",
      "   \"cell_type\": \"code\",\n",
      "   \"execution_count\": null,\n",
      "   \"metadata\": {},\n",
      "   \"outputs\": [],\n",
      "   \"source\": [\n",
      "    \"head -n 20 $datadir/index1.txt\"\n",
      "   ]\n",
      "  },\n",
      "  {\n",
      "   \"cell_type\": \"code\",\n",
      "   \"execution_count\": null,\n",
      "   \"metadata\": {},\n",
      "   \"outputs\": [],\n",
      "   \"source\": [\n",
      "    \"head -n 12 $datadir/index1.txt > $datadir/barcodes.txt\"\n",
      "   ]\n",
      "  },\n",
      "  {\n",
      "   \"cell_type\": \"code\",\n",
      "   \"execution_count\": null,\n",
      "   \"metadata\": {},\n",
      "   \"outputs\": [],\n",
      "   \"source\": []\n",
      "  }\n",
      " ],\n",
      " \"metadata\": {\n",
      "  \"kernelspec\": {\n",
      "   \"display_name\": \"Bash\",\n",
      "   \"language\": \"bash\",\n",
      "   \"name\": \"bash\"\n",
      "  },\n",
      "  \"language_info\": {\n",
      "   \"codemirror_mode\": \"shell\",\n",
      "   \"file_extension\": \".sh\",\n",
      "   \"mimetype\": \"text/x-sh\",\n",
      "   \"name\": \"bash\"\n",
      "  }\n",
      " },\n",
      " \"nbformat\": 4,\n",
      " \"nbformat_minor\": 2\n",
      "}\n"
     ]
    }
   ],
   "source": [
    "print(template.render(project=\"utRho\", pattern=\"IS-123\", bs_dir=\"/mnt/basespace\", data_dir=\"../data\"))"
   ]
  },
  {
   "cell_type": "code",
   "execution_count": 8,
   "metadata": {},
   "outputs": [],
   "source": [
    "output = template.render(project=\"utRho\", pattern=\"IS-123\", bs_dir=\"/mnt/basespace\", data_dir=\"../data\")\n",
    "with open(\"../templates/test1.ipynb\", \"wt\") as fo:\n",
    "    fo.write(output)"
   ]
  },
  {
   "cell_type": "code",
   "execution_count": null,
   "metadata": {},
   "outputs": [],
   "source": []
  }
 ],
 "metadata": {
  "kernelspec": {
   "display_name": "Python 3",
   "language": "python",
   "name": "python3"
  },
  "language_info": {
   "codemirror_mode": {
    "name": "ipython",
    "version": 3
   },
   "file_extension": ".py",
   "mimetype": "text/x-python",
   "name": "python",
   "nbconvert_exporter": "python",
   "pygments_lexer": "ipython3",
   "version": "3.6.5"
  }
 },
 "nbformat": 4,
 "nbformat_minor": 2
}
